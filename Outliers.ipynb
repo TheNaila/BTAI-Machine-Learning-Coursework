{
 "cells": [
  {
   "cell_type": "markdown",
   "metadata": {},
   "source": [
    "# Detecting and Replacing Outliers"
   ]
  },
  {
   "cell_type": "code",
   "execution_count": 1,
   "metadata": {},
   "outputs": [],
   "source": [
    "import pandas as pd\n",
    "import numpy as np\n",
    "import os "
   ]
  },
  {
   "cell_type": "code",
   "execution_count": 2,
   "metadata": {},
   "outputs": [],
   "source": [
    "filename = os.path.join(os.getcwd(), \"data\", \"adult.data.partial\")\n",
    "df = pd.read_csv(filename, header=0)"
   ]
  },
  {
   "cell_type": "markdown",
   "metadata": {},
   "source": [
    "###  Get the Dimensions of the Dataset"
   ]
  },
  {
   "cell_type": "code",
   "execution_count": 3,
   "metadata": {},
   "outputs": [
    {
     "data": {
      "text/plain": [
       "(7000, 15)"
      ]
     },
     "execution_count": 3,
     "metadata": {},
     "output_type": "execute_result"
    }
   ],
   "source": [
    "df.shape"
   ]
  },
  {
   "cell_type": "markdown",
   "metadata": {},
   "source": [
    "### Glance at the Data"
   ]
  },
  {
   "cell_type": "code",
   "execution_count": 4,
   "metadata": {},
   "outputs": [
    {
     "data": {
      "text/html": [
       "<div>\n",
       "<style scoped>\n",
       "    .dataframe tbody tr th:only-of-type {\n",
       "        vertical-align: middle;\n",
       "    }\n",
       "\n",
       "    .dataframe tbody tr th {\n",
       "        vertical-align: top;\n",
       "    }\n",
       "\n",
       "    .dataframe thead th {\n",
       "        text-align: right;\n",
       "    }\n",
       "</style>\n",
       "<table border=\"1\" class=\"dataframe\">\n",
       "  <thead>\n",
       "    <tr style=\"text-align: right;\">\n",
       "      <th></th>\n",
       "      <th>age</th>\n",
       "      <th>workclass</th>\n",
       "      <th>fnlwgt</th>\n",
       "      <th>education</th>\n",
       "      <th>education-num</th>\n",
       "      <th>marital-status</th>\n",
       "      <th>occupation</th>\n",
       "      <th>relationship</th>\n",
       "      <th>race</th>\n",
       "      <th>sex_selfID</th>\n",
       "      <th>capital-gain</th>\n",
       "      <th>capital-loss</th>\n",
       "      <th>hours-per-week</th>\n",
       "      <th>native-country</th>\n",
       "      <th>label</th>\n",
       "    </tr>\n",
       "  </thead>\n",
       "  <tbody>\n",
       "    <tr>\n",
       "      <th>0</th>\n",
       "      <td>36</td>\n",
       "      <td>State-gov</td>\n",
       "      <td>112074</td>\n",
       "      <td>Doctorate</td>\n",
       "      <td>16</td>\n",
       "      <td>Never-married</td>\n",
       "      <td>Prof-specialty</td>\n",
       "      <td>Not-in-family</td>\n",
       "      <td>White</td>\n",
       "      <td>Non-Female</td>\n",
       "      <td>0</td>\n",
       "      <td>0</td>\n",
       "      <td>45</td>\n",
       "      <td>United-States</td>\n",
       "      <td>&lt;=50K</td>\n",
       "    </tr>\n",
       "    <tr>\n",
       "      <th>1</th>\n",
       "      <td>35</td>\n",
       "      <td>Private</td>\n",
       "      <td>32528</td>\n",
       "      <td>HS-grad</td>\n",
       "      <td>9</td>\n",
       "      <td>Married-civ-spouse</td>\n",
       "      <td>Handlers-cleaners</td>\n",
       "      <td>Husband</td>\n",
       "      <td>White</td>\n",
       "      <td>Non-Female</td>\n",
       "      <td>0</td>\n",
       "      <td>0</td>\n",
       "      <td>45</td>\n",
       "      <td>United-States</td>\n",
       "      <td>&lt;=50K</td>\n",
       "    </tr>\n",
       "    <tr>\n",
       "      <th>2</th>\n",
       "      <td>21</td>\n",
       "      <td>Private</td>\n",
       "      <td>270043</td>\n",
       "      <td>Some-college</td>\n",
       "      <td>10</td>\n",
       "      <td>Never-married</td>\n",
       "      <td>Other-service</td>\n",
       "      <td>Own-child</td>\n",
       "      <td>White</td>\n",
       "      <td>Female</td>\n",
       "      <td>0</td>\n",
       "      <td>0</td>\n",
       "      <td>16</td>\n",
       "      <td>United-States</td>\n",
       "      <td>&lt;=50K</td>\n",
       "    </tr>\n",
       "    <tr>\n",
       "      <th>3</th>\n",
       "      <td>45</td>\n",
       "      <td>Private</td>\n",
       "      <td>168837</td>\n",
       "      <td>Some-college</td>\n",
       "      <td>10</td>\n",
       "      <td>Married-civ-spouse</td>\n",
       "      <td>Adm-clerical</td>\n",
       "      <td>Wife</td>\n",
       "      <td>White</td>\n",
       "      <td>Female</td>\n",
       "      <td>0</td>\n",
       "      <td>0</td>\n",
       "      <td>24</td>\n",
       "      <td>Canada</td>\n",
       "      <td>&gt;50K</td>\n",
       "    </tr>\n",
       "    <tr>\n",
       "      <th>4</th>\n",
       "      <td>39</td>\n",
       "      <td>Private</td>\n",
       "      <td>297449</td>\n",
       "      <td>Bachelors</td>\n",
       "      <td>13</td>\n",
       "      <td>Married-civ-spouse</td>\n",
       "      <td>Prof-specialty</td>\n",
       "      <td>Husband</td>\n",
       "      <td>White</td>\n",
       "      <td>Non-Female</td>\n",
       "      <td>0</td>\n",
       "      <td>0</td>\n",
       "      <td>40</td>\n",
       "      <td>United-States</td>\n",
       "      <td>&gt;50K</td>\n",
       "    </tr>\n",
       "  </tbody>\n",
       "</table>\n",
       "</div>"
      ],
      "text/plain": [
       "   age  workclass  fnlwgt     education  education-num      marital-status  \\\n",
       "0   36  State-gov  112074     Doctorate             16       Never-married   \n",
       "1   35    Private   32528       HS-grad              9  Married-civ-spouse   \n",
       "2   21    Private  270043  Some-college             10       Never-married   \n",
       "3   45    Private  168837  Some-college             10  Married-civ-spouse   \n",
       "4   39    Private  297449     Bachelors             13  Married-civ-spouse   \n",
       "\n",
       "          occupation   relationship   race  sex_selfID  capital-gain  \\\n",
       "0     Prof-specialty  Not-in-family  White  Non-Female             0   \n",
       "1  Handlers-cleaners        Husband  White  Non-Female             0   \n",
       "2      Other-service      Own-child  White      Female             0   \n",
       "3       Adm-clerical           Wife  White      Female             0   \n",
       "4     Prof-specialty        Husband  White  Non-Female             0   \n",
       "\n",
       "   capital-loss  hours-per-week native-country  label  \n",
       "0             0              45  United-States  <=50K  \n",
       "1             0              45  United-States  <=50K  \n",
       "2             0              16  United-States  <=50K  \n",
       "3             0              24         Canada   >50K  \n",
       "4             0              40  United-States   >50K  "
      ]
     },
     "execution_count": 4,
     "metadata": {},
     "output_type": "execute_result"
    }
   ],
   "source": [
    "df.head()"
   ]
  },
  {
   "cell_type": "markdown",
   "metadata": {},
   "source": [
    "## Step 1: Compute the n-th Percentile of a Given Column"
   ]
  },
  {
   "cell_type": "markdown",
   "metadata": {},
   "source": [
    "As an analyst, your goal is to detect the outliers in the `hours-per-week` column. In particular, you want to get the 99.9th percentile of the values in the `hours-per-week` column.<br>\n",
    "\n",
    "As was discussed in the videos, *z-scores* can be used to compute the n-th percentile of a data array. Toward the end of this notebook, we will be looking at a few ways to compute the z-scores and then figure out the n-th percentile in a data column. For now, however, we will show you a ready-made method from `numpy` that achieves our objective.\n",
    "\n",
    "The code cell below uses the `np.percentile()` function and gets the value of `hours-per-week` that corresponds to the 99.9th percentile."
   ]
  },
  {
   "cell_type": "code",
   "execution_count": 5,
   "metadata": {},
   "outputs": [
    {
     "data": {
      "text/plain": [
       "99.0"
      ]
     },
     "execution_count": 5,
     "metadata": {},
     "output_type": "execute_result"
    }
   ],
   "source": [
    "hpw_999 = np.percentile(df['hours-per-week'], 99.9)\n",
    "hpw_999"
   ]
  },
  {
   "cell_type": "markdown",
   "metadata": {},
   "source": [
    "In the code cell below, figure out the value of `education-num` that corresponds to the 90th percentile of the education in years. Hint: Use the same method as the code cell above, but replace the column name and the percentage value. Save your results to variable `edu_90`."
   ]
  },
  {
   "cell_type": "markdown",
   "metadata": {},
   "source": [
    "### Graded Cell\n",
    "The cell below will be graded. Remove the line \"raise NotImplementedError()\" before writing your code."
   ]
  },
  {
   "cell_type": "code",
   "execution_count": 6,
   "metadata": {
    "deletable": false,
    "nbgrader": {
     "checksum": "4b73dccd794c97ed22249263e4a9f362",
     "grade": false,
     "grade_id": "cell-education",
     "locked": false,
     "schema_version": 1,
     "solution": true
    }
   },
   "outputs": [
    {
     "data": {
      "text/plain": [
       "13.0"
      ]
     },
     "execution_count": 6,
     "metadata": {},
     "output_type": "execute_result"
    }
   ],
   "source": [
    "edu_90 = np.percentile(df['education-num'], 90.0)\n",
    "edu_90"
   ]
  },
  {
   "cell_type": "markdown",
   "metadata": {},
   "source": [
    "### Self-Check\n",
    "\n",
    "Run the cell below to test the correctness of your code above before submitting for grading. Do not add code or delete code in the cell."
   ]
  },
  {
   "cell_type": "code",
   "execution_count": 7,
   "metadata": {
    "deletable": false,
    "editable": false,
    "nbgrader": {
     "checksum": "785497879183435f8f2f171c0cfd62ea",
     "grade": true,
     "grade_id": "cell-education-test",
     "locked": true,
     "points": 1,
     "schema_version": 1,
     "solution": false
    }
   },
   "outputs": [
    {
     "name": "stdout",
     "output_type": "stream",
     "text": [
      "Correct!\n"
     ]
    }
   ],
   "source": [
    "# Run this self-test cell to check your code; \n",
    "# do not add code or delete code in this cell\n",
    "from jn import testEdu\n",
    "\n",
    "try:\n",
    "    p, err = testEdu(df, edu_90)\n",
    "    print(err)\n",
    "except Exception as e:\n",
    "    print(\"Error!\\n\" + str(e))\n",
    "    \n"
   ]
  },
  {
   "cell_type": "markdown",
   "metadata": {},
   "source": [
    "## Step 2: Add a Column With the Windsorized Version of the Original Column."
   ]
  },
  {
   "cell_type": "markdown",
   "metadata": {},
   "source": [
    "In this next section, we will use a new package called SciPy, which stands for Scientific Python. For more information about SciPy, consult the online [documentation](https://scipy.github.io/devdocs/reference/index.html).\n",
    "\n",
    "First, import the `stats` module from the `scipy` package."
   ]
  },
  {
   "cell_type": "code",
   "execution_count": 8,
   "metadata": {},
   "outputs": [],
   "source": [
    "import scipy.stats as stats"
   ]
  },
  {
   "cell_type": "markdown",
   "metadata": {},
   "source": [
    "Read the documentation for the function `stats.mstats.winsorize()`."
   ]
  },
  {
   "cell_type": "code",
   "execution_count": 9,
   "metadata": {},
   "outputs": [],
   "source": [
    "stats.mstats.winsorize?"
   ]
  },
  {
   "cell_type": "markdown",
   "metadata": {},
   "source": [
    "This function will create a copy of a given column, such that the outlier values will be replaced. In particular, you will pass two percentage cutoffs as a list to the `limits` parameter, and all the column values below the specified lower percentile cutoff, as well as all the values above the upper cutoff, will be replaced with the corresponding percentile value. \n",
    "\n",
    "The code cell below uses the `stats.mstats.windsorize()` function to add a new column to DataFrame `df`. The column will be named `education-num-win` and will contain the windsorized version of the `education-num` column, with the cutoff from the 'bottom' and the cutoff from the 'top' both set at the 1% level."
   ]
  },
  {
   "cell_type": "code",
   "execution_count": 10,
   "metadata": {},
   "outputs": [
    {
     "data": {
      "text/html": [
       "<div>\n",
       "<style scoped>\n",
       "    .dataframe tbody tr th:only-of-type {\n",
       "        vertical-align: middle;\n",
       "    }\n",
       "\n",
       "    .dataframe tbody tr th {\n",
       "        vertical-align: top;\n",
       "    }\n",
       "\n",
       "    .dataframe thead th {\n",
       "        text-align: right;\n",
       "    }\n",
       "</style>\n",
       "<table border=\"1\" class=\"dataframe\">\n",
       "  <thead>\n",
       "    <tr style=\"text-align: right;\">\n",
       "      <th></th>\n",
       "      <th>age</th>\n",
       "      <th>workclass</th>\n",
       "      <th>fnlwgt</th>\n",
       "      <th>education</th>\n",
       "      <th>education-num</th>\n",
       "      <th>marital-status</th>\n",
       "      <th>occupation</th>\n",
       "      <th>relationship</th>\n",
       "      <th>race</th>\n",
       "      <th>sex_selfID</th>\n",
       "      <th>capital-gain</th>\n",
       "      <th>capital-loss</th>\n",
       "      <th>hours-per-week</th>\n",
       "      <th>native-country</th>\n",
       "      <th>label</th>\n",
       "      <th>education-num-win</th>\n",
       "    </tr>\n",
       "  </thead>\n",
       "  <tbody>\n",
       "    <tr>\n",
       "      <th>0</th>\n",
       "      <td>36</td>\n",
       "      <td>State-gov</td>\n",
       "      <td>112074</td>\n",
       "      <td>Doctorate</td>\n",
       "      <td>16</td>\n",
       "      <td>Never-married</td>\n",
       "      <td>Prof-specialty</td>\n",
       "      <td>Not-in-family</td>\n",
       "      <td>White</td>\n",
       "      <td>Non-Female</td>\n",
       "      <td>0</td>\n",
       "      <td>0</td>\n",
       "      <td>45</td>\n",
       "      <td>United-States</td>\n",
       "      <td>&lt;=50K</td>\n",
       "      <td>16</td>\n",
       "    </tr>\n",
       "    <tr>\n",
       "      <th>1</th>\n",
       "      <td>35</td>\n",
       "      <td>Private</td>\n",
       "      <td>32528</td>\n",
       "      <td>HS-grad</td>\n",
       "      <td>9</td>\n",
       "      <td>Married-civ-spouse</td>\n",
       "      <td>Handlers-cleaners</td>\n",
       "      <td>Husband</td>\n",
       "      <td>White</td>\n",
       "      <td>Non-Female</td>\n",
       "      <td>0</td>\n",
       "      <td>0</td>\n",
       "      <td>45</td>\n",
       "      <td>United-States</td>\n",
       "      <td>&lt;=50K</td>\n",
       "      <td>9</td>\n",
       "    </tr>\n",
       "    <tr>\n",
       "      <th>2</th>\n",
       "      <td>21</td>\n",
       "      <td>Private</td>\n",
       "      <td>270043</td>\n",
       "      <td>Some-college</td>\n",
       "      <td>10</td>\n",
       "      <td>Never-married</td>\n",
       "      <td>Other-service</td>\n",
       "      <td>Own-child</td>\n",
       "      <td>White</td>\n",
       "      <td>Female</td>\n",
       "      <td>0</td>\n",
       "      <td>0</td>\n",
       "      <td>16</td>\n",
       "      <td>United-States</td>\n",
       "      <td>&lt;=50K</td>\n",
       "      <td>10</td>\n",
       "    </tr>\n",
       "    <tr>\n",
       "      <th>3</th>\n",
       "      <td>45</td>\n",
       "      <td>Private</td>\n",
       "      <td>168837</td>\n",
       "      <td>Some-college</td>\n",
       "      <td>10</td>\n",
       "      <td>Married-civ-spouse</td>\n",
       "      <td>Adm-clerical</td>\n",
       "      <td>Wife</td>\n",
       "      <td>White</td>\n",
       "      <td>Female</td>\n",
       "      <td>0</td>\n",
       "      <td>0</td>\n",
       "      <td>24</td>\n",
       "      <td>Canada</td>\n",
       "      <td>&gt;50K</td>\n",
       "      <td>10</td>\n",
       "    </tr>\n",
       "    <tr>\n",
       "      <th>4</th>\n",
       "      <td>39</td>\n",
       "      <td>Private</td>\n",
       "      <td>297449</td>\n",
       "      <td>Bachelors</td>\n",
       "      <td>13</td>\n",
       "      <td>Married-civ-spouse</td>\n",
       "      <td>Prof-specialty</td>\n",
       "      <td>Husband</td>\n",
       "      <td>White</td>\n",
       "      <td>Non-Female</td>\n",
       "      <td>0</td>\n",
       "      <td>0</td>\n",
       "      <td>40</td>\n",
       "      <td>United-States</td>\n",
       "      <td>&gt;50K</td>\n",
       "      <td>13</td>\n",
       "    </tr>\n",
       "    <tr>\n",
       "      <th>5</th>\n",
       "      <td>27</td>\n",
       "      <td>Private</td>\n",
       "      <td>233421</td>\n",
       "      <td>Some-college</td>\n",
       "      <td>10</td>\n",
       "      <td>Never-married</td>\n",
       "      <td>Adm-clerical</td>\n",
       "      <td>Own-child</td>\n",
       "      <td>White</td>\n",
       "      <td>Non-Female</td>\n",
       "      <td>0</td>\n",
       "      <td>0</td>\n",
       "      <td>20</td>\n",
       "      <td>United-States</td>\n",
       "      <td>&lt;=50K</td>\n",
       "      <td>10</td>\n",
       "    </tr>\n",
       "    <tr>\n",
       "      <th>6</th>\n",
       "      <td>40</td>\n",
       "      <td>Private</td>\n",
       "      <td>220460</td>\n",
       "      <td>HS-grad</td>\n",
       "      <td>9</td>\n",
       "      <td>Never-married</td>\n",
       "      <td>Craft-repair</td>\n",
       "      <td>Not-in-family</td>\n",
       "      <td>White</td>\n",
       "      <td>Non-Female</td>\n",
       "      <td>0</td>\n",
       "      <td>0</td>\n",
       "      <td>40</td>\n",
       "      <td>Canada</td>\n",
       "      <td>&lt;=50K</td>\n",
       "      <td>9</td>\n",
       "    </tr>\n",
       "    <tr>\n",
       "      <th>7</th>\n",
       "      <td>71</td>\n",
       "      <td>Private</td>\n",
       "      <td>163385</td>\n",
       "      <td>Some-college</td>\n",
       "      <td>10</td>\n",
       "      <td>Widowed</td>\n",
       "      <td>Sales</td>\n",
       "      <td>Not-in-family</td>\n",
       "      <td>White</td>\n",
       "      <td>Non-Female</td>\n",
       "      <td>0</td>\n",
       "      <td>0</td>\n",
       "      <td>35</td>\n",
       "      <td>United-States</td>\n",
       "      <td>&gt;50K</td>\n",
       "      <td>10</td>\n",
       "    </tr>\n",
       "    <tr>\n",
       "      <th>8</th>\n",
       "      <td>20</td>\n",
       "      <td>NaN</td>\n",
       "      <td>193416</td>\n",
       "      <td>Some-college</td>\n",
       "      <td>10</td>\n",
       "      <td>Never-married</td>\n",
       "      <td>NaN</td>\n",
       "      <td>Own-child</td>\n",
       "      <td>White</td>\n",
       "      <td>Female</td>\n",
       "      <td>0</td>\n",
       "      <td>0</td>\n",
       "      <td>40</td>\n",
       "      <td>United-States</td>\n",
       "      <td>&lt;=50K</td>\n",
       "      <td>10</td>\n",
       "    </tr>\n",
       "    <tr>\n",
       "      <th>9</th>\n",
       "      <td>41</td>\n",
       "      <td>Private</td>\n",
       "      <td>116391</td>\n",
       "      <td>Some-college</td>\n",
       "      <td>10</td>\n",
       "      <td>Married-civ-spouse</td>\n",
       "      <td>Craft-repair</td>\n",
       "      <td>Husband</td>\n",
       "      <td>White</td>\n",
       "      <td>Non-Female</td>\n",
       "      <td>0</td>\n",
       "      <td>0</td>\n",
       "      <td>40</td>\n",
       "      <td>United-States</td>\n",
       "      <td>&lt;=50K</td>\n",
       "      <td>10</td>\n",
       "    </tr>\n",
       "    <tr>\n",
       "      <th>10</th>\n",
       "      <td>54</td>\n",
       "      <td>Private</td>\n",
       "      <td>155408</td>\n",
       "      <td>HS-grad</td>\n",
       "      <td>9</td>\n",
       "      <td>Widowed</td>\n",
       "      <td>Handlers-cleaners</td>\n",
       "      <td>Unmarried</td>\n",
       "      <td>White</td>\n",
       "      <td>Female</td>\n",
       "      <td>0</td>\n",
       "      <td>0</td>\n",
       "      <td>40</td>\n",
       "      <td>United-States</td>\n",
       "      <td>&lt;=50K</td>\n",
       "      <td>9</td>\n",
       "    </tr>\n",
       "    <tr>\n",
       "      <th>11</th>\n",
       "      <td>27</td>\n",
       "      <td>Self-emp-not-inc</td>\n",
       "      <td>140863</td>\n",
       "      <td>9th</td>\n",
       "      <td>5</td>\n",
       "      <td>Married-civ-spouse</td>\n",
       "      <td>Craft-repair</td>\n",
       "      <td>Husband</td>\n",
       "      <td>White</td>\n",
       "      <td>Non-Female</td>\n",
       "      <td>0</td>\n",
       "      <td>0</td>\n",
       "      <td>40</td>\n",
       "      <td>United-States</td>\n",
       "      <td>&lt;=50K</td>\n",
       "      <td>5</td>\n",
       "    </tr>\n",
       "    <tr>\n",
       "      <th>12</th>\n",
       "      <td>43</td>\n",
       "      <td>Private</td>\n",
       "      <td>170214</td>\n",
       "      <td>Some-college</td>\n",
       "      <td>10</td>\n",
       "      <td>Married-civ-spouse</td>\n",
       "      <td>Exec-managerial</td>\n",
       "      <td>Husband</td>\n",
       "      <td>White</td>\n",
       "      <td>Non-Female</td>\n",
       "      <td>0</td>\n",
       "      <td>0</td>\n",
       "      <td>50</td>\n",
       "      <td>United-States</td>\n",
       "      <td>&gt;50K</td>\n",
       "      <td>10</td>\n",
       "    </tr>\n",
       "    <tr>\n",
       "      <th>13</th>\n",
       "      <td>44</td>\n",
       "      <td>Private</td>\n",
       "      <td>198096</td>\n",
       "      <td>Bachelors</td>\n",
       "      <td>13</td>\n",
       "      <td>Married-civ-spouse</td>\n",
       "      <td>Sales</td>\n",
       "      <td>Husband</td>\n",
       "      <td>White</td>\n",
       "      <td>Non-Female</td>\n",
       "      <td>7688</td>\n",
       "      <td>0</td>\n",
       "      <td>40</td>\n",
       "      <td>United-States</td>\n",
       "      <td>&gt;50K</td>\n",
       "      <td>13</td>\n",
       "    </tr>\n",
       "    <tr>\n",
       "      <th>14</th>\n",
       "      <td>32</td>\n",
       "      <td>Private</td>\n",
       "      <td>29933</td>\n",
       "      <td>Bachelors</td>\n",
       "      <td>13</td>\n",
       "      <td>Married-civ-spouse</td>\n",
       "      <td>Handlers-cleaners</td>\n",
       "      <td>Husband</td>\n",
       "      <td>White</td>\n",
       "      <td>Non-Female</td>\n",
       "      <td>0</td>\n",
       "      <td>0</td>\n",
       "      <td>50</td>\n",
       "      <td>United-States</td>\n",
       "      <td>&gt;50K</td>\n",
       "      <td>13</td>\n",
       "    </tr>\n",
       "  </tbody>\n",
       "</table>\n",
       "</div>"
      ],
      "text/plain": [
       "    age         workclass  fnlwgt     education  education-num  \\\n",
       "0    36         State-gov  112074     Doctorate             16   \n",
       "1    35           Private   32528       HS-grad              9   \n",
       "2    21           Private  270043  Some-college             10   \n",
       "3    45           Private  168837  Some-college             10   \n",
       "4    39           Private  297449     Bachelors             13   \n",
       "5    27           Private  233421  Some-college             10   \n",
       "6    40           Private  220460       HS-grad              9   \n",
       "7    71           Private  163385  Some-college             10   \n",
       "8    20               NaN  193416  Some-college             10   \n",
       "9    41           Private  116391  Some-college             10   \n",
       "10   54           Private  155408       HS-grad              9   \n",
       "11   27  Self-emp-not-inc  140863           9th              5   \n",
       "12   43           Private  170214  Some-college             10   \n",
       "13   44           Private  198096     Bachelors             13   \n",
       "14   32           Private   29933     Bachelors             13   \n",
       "\n",
       "        marital-status         occupation   relationship   race  sex_selfID  \\\n",
       "0        Never-married     Prof-specialty  Not-in-family  White  Non-Female   \n",
       "1   Married-civ-spouse  Handlers-cleaners        Husband  White  Non-Female   \n",
       "2        Never-married      Other-service      Own-child  White      Female   \n",
       "3   Married-civ-spouse       Adm-clerical           Wife  White      Female   \n",
       "4   Married-civ-spouse     Prof-specialty        Husband  White  Non-Female   \n",
       "5        Never-married       Adm-clerical      Own-child  White  Non-Female   \n",
       "6        Never-married       Craft-repair  Not-in-family  White  Non-Female   \n",
       "7              Widowed              Sales  Not-in-family  White  Non-Female   \n",
       "8        Never-married                NaN      Own-child  White      Female   \n",
       "9   Married-civ-spouse       Craft-repair        Husband  White  Non-Female   \n",
       "10             Widowed  Handlers-cleaners      Unmarried  White      Female   \n",
       "11  Married-civ-spouse       Craft-repair        Husband  White  Non-Female   \n",
       "12  Married-civ-spouse    Exec-managerial        Husband  White  Non-Female   \n",
       "13  Married-civ-spouse              Sales        Husband  White  Non-Female   \n",
       "14  Married-civ-spouse  Handlers-cleaners        Husband  White  Non-Female   \n",
       "\n",
       "    capital-gain  capital-loss  hours-per-week native-country  label  \\\n",
       "0              0             0              45  United-States  <=50K   \n",
       "1              0             0              45  United-States  <=50K   \n",
       "2              0             0              16  United-States  <=50K   \n",
       "3              0             0              24         Canada   >50K   \n",
       "4              0             0              40  United-States   >50K   \n",
       "5              0             0              20  United-States  <=50K   \n",
       "6              0             0              40         Canada  <=50K   \n",
       "7              0             0              35  United-States   >50K   \n",
       "8              0             0              40  United-States  <=50K   \n",
       "9              0             0              40  United-States  <=50K   \n",
       "10             0             0              40  United-States  <=50K   \n",
       "11             0             0              40  United-States  <=50K   \n",
       "12             0             0              50  United-States   >50K   \n",
       "13          7688             0              40  United-States   >50K   \n",
       "14             0             0              50  United-States   >50K   \n",
       "\n",
       "    education-num-win  \n",
       "0                  16  \n",
       "1                   9  \n",
       "2                  10  \n",
       "3                  10  \n",
       "4                  13  \n",
       "5                  10  \n",
       "6                   9  \n",
       "7                  10  \n",
       "8                  10  \n",
       "9                  10  \n",
       "10                  9  \n",
       "11                  5  \n",
       "12                 10  \n",
       "13                 13  \n",
       "14                 13  "
      ]
     },
     "execution_count": 10,
     "metadata": {},
     "output_type": "execute_result"
    }
   ],
   "source": [
    "df['education-num-win'] = stats.mstats.winsorize(df['education-num'], limits=[0.01, 0.01])\n",
    "df.head(15)"
   ]
  },
  {
   "cell_type": "markdown",
   "metadata": {},
   "source": [
    "## Deep Dive: Computing z-scores "
   ]
  },
  {
   "cell_type": "markdown",
   "metadata": {},
   "source": [
    "First, let's review what the *z-score of a given value* is. <br>\n",
    "Say your dataset contains a feature (aka a one-dimensional array, a vector, a list, a variable, a data column) called $X$, and you want to compute the z-score for one particular observation (aka an example value, a cell) of this feature. Let's call this observation $x_i$. <br>\n",
    "A z-score of $x_i$ is given by:\n",
    "$$z = \\frac{x_i-\\bar{X}}{s},$$\n",
    "where $\\bar{X}$ is the mean of all the values of $x$ in your data, and $s$ is the standard deviation of those values.<br>\n",
    "\n",
    "The code cells below implements this formula."
   ]
  },
  {
   "cell_type": "markdown",
   "metadata": {},
   "source": [
    "#### Calculate a z-score for one (given) value, a given mean, and a given standard deviation"
   ]
  },
  {
   "cell_type": "code",
   "execution_count": 11,
   "metadata": {},
   "outputs": [
    {
     "data": {
      "text/plain": [
       "-0.18701298701298705"
      ]
     },
     "execution_count": 11,
     "metadata": {},
     "output_type": "execute_result"
    }
   ],
   "source": [
    "F_mean = 5.44\n",
    "F_std = 7.7\n",
    "value = 4 \n",
    "\n",
    "value_zscore = (value-F_mean)/F_std\n",
    "value_zscore"
   ]
  },
  {
   "cell_type": "markdown",
   "metadata": {},
   "source": [
    "####  Calculate a z-score for one (given) value, given the full sample of values. (The `numpy` way)"
   ]
  },
  {
   "cell_type": "code",
   "execution_count": 12,
   "metadata": {},
   "outputs": [
    {
     "data": {
      "text/plain": [
       "-0.1874826669747723"
      ]
     },
     "execution_count": 12,
     "metadata": {},
     "output_type": "execute_result"
    }
   ],
   "source": [
    "F = [4, 6, 3, -3, 4, 5, 6, 7, 3 , 8, 1, 9, 1, 2, 2, 35, 4, 1]\n",
    "value = F[0]\n",
    "\n",
    "F_std = np.std(F)\n",
    "F_mean = np.mean(F)\n",
    "value_zscore = (value-F_mean)/F_std\n",
    "value_zscore"
   ]
  },
  {
   "cell_type": "code",
   "execution_count": 13,
   "metadata": {},
   "outputs": [
    {
     "data": {
      "text/plain": [
       "5.444444444444445"
      ]
     },
     "execution_count": 13,
     "metadata": {},
     "output_type": "execute_result"
    }
   ],
   "source": [
    "F_mean"
   ]
  },
  {
   "cell_type": "markdown",
   "metadata": {},
   "source": [
    "#### Calculate the z-score for all values of a feature vector. (The `numpy` way)"
   ]
  },
  {
   "cell_type": "markdown",
   "metadata": {},
   "source": [
    "All we need to do now is to apply the computation we implemented above to every value in the feature vector `F`. "
   ]
  },
  {
   "cell_type": "code",
   "execution_count": 14,
   "metadata": {},
   "outputs": [
    {
     "data": {
      "text/plain": [
       "[-0.1874826669747723,\n",
       " 0.07210871806722008,\n",
       " -0.3172783594957685,\n",
       " -1.0960525146217457,\n",
       " -0.1874826669747723,\n",
       " -0.057686974453776116,\n",
       " 0.07210871806722008,\n",
       " 0.2019044105882163,\n",
       " -0.3172783594957685,\n",
       " 0.3317001031092125,\n",
       " -0.5768697445377609,\n",
       " 0.46149579563020865,\n",
       " -0.5768697445377609,\n",
       " -0.4470740520167647,\n",
       " -0.4470740520167647,\n",
       " 3.83618380117611,\n",
       " -0.1874826669747723,\n",
       " -0.5768697445377609]"
      ]
     },
     "execution_count": 14,
     "metadata": {},
     "output_type": "execute_result"
    }
   ],
   "source": [
    "F_std = np.std(F)\n",
    "F_mean = np.mean(F)\n",
    "zscores = []\n",
    "for value in F:\n",
    "    z = (value-F_mean)/F_std\n",
    "    zscores.append(z)\n",
    "    \n",
    "zscores"
   ]
  },
  {
   "cell_type": "markdown",
   "metadata": {},
   "source": [
    "Now, let's write code that implements the same computation the *pythonic* way -- using *list comprehensions*. <br>\n",
    "Tip: remember that list comprehension syntax looks like this: <br>\n",
    "`[action_to_apply(new_var_name) for new_var_name in list_containing_values]`"
   ]
  },
  {
   "cell_type": "code",
   "execution_count": 15,
   "metadata": {},
   "outputs": [
    {
     "data": {
      "text/plain": [
       "[-0.1874826669747723,\n",
       " 0.07210871806722008,\n",
       " -0.3172783594957685,\n",
       " -1.0960525146217457,\n",
       " -0.1874826669747723,\n",
       " -0.057686974453776116,\n",
       " 0.07210871806722008,\n",
       " 0.2019044105882163,\n",
       " -0.3172783594957685,\n",
       " 0.3317001031092125,\n",
       " -0.5768697445377609,\n",
       " 0.46149579563020865,\n",
       " -0.5768697445377609,\n",
       " -0.4470740520167647,\n",
       " -0.4470740520167647,\n",
       " 3.83618380117611,\n",
       " -0.1874826669747723,\n",
       " -0.5768697445377609]"
      ]
     },
     "execution_count": 15,
     "metadata": {},
     "output_type": "execute_result"
    }
   ],
   "source": [
    "F_std = np.std(F)\n",
    "F_mean = np.mean(F)\n",
    "zscores = [(value-F_mean)/F_std for value in F]\n",
    "zscores\n"
   ]
  },
  {
   "cell_type": "markdown",
   "metadata": {},
   "source": [
    "#### Calculate the z-score for all values of a feature vector. (The `scipy` way)"
   ]
  },
  {
   "cell_type": "markdown",
   "metadata": {},
   "source": [
    "Previously we were computing the z-score by implementing its definition formula via `numpy`.<br>\n",
    "This time, we will use a ready-made function `zscore()` from the package `scipy`."
   ]
  },
  {
   "cell_type": "code",
   "execution_count": 16,
   "metadata": {},
   "outputs": [
    {
     "data": {
      "text/plain": [
       "array([ 0.39704869,  0.39704869, -1.95626181, ..., -0.0086945 ,\n",
       "       -0.0086945 ,  1.61427826])"
      ]
     },
     "execution_count": 16,
     "metadata": {},
     "output_type": "execute_result"
    }
   ],
   "source": [
    "zscores = stats.zscore(df['hours-per-week'])\n",
    "zscores"
   ]
  },
  {
   "cell_type": "markdown",
   "metadata": {},
   "source": [
    "####  Calculate z-scores for all values of all (numeric) columns"
   ]
  },
  {
   "cell_type": "markdown",
   "metadata": {},
   "source": [
    "We will demonstrate how to use the Pandas `apply()` method to broadcast the same function (`stats.zscore`) onto all columns in a (filtered!) DataFrame:"
   ]
  },
  {
   "cell_type": "code",
   "execution_count": 17,
   "metadata": {},
   "outputs": [
    {
     "data": {
      "text/html": [
       "<div>\n",
       "<style scoped>\n",
       "    .dataframe tbody tr th:only-of-type {\n",
       "        vertical-align: middle;\n",
       "    }\n",
       "\n",
       "    .dataframe tbody tr th {\n",
       "        vertical-align: top;\n",
       "    }\n",
       "\n",
       "    .dataframe thead th {\n",
       "        text-align: right;\n",
       "    }\n",
       "</style>\n",
       "<table border=\"1\" class=\"dataframe\">\n",
       "  <thead>\n",
       "    <tr style=\"text-align: right;\">\n",
       "      <th></th>\n",
       "      <th>age</th>\n",
       "      <th>fnlwgt</th>\n",
       "      <th>education-num</th>\n",
       "      <th>capital-gain</th>\n",
       "      <th>capital-loss</th>\n",
       "      <th>hours-per-week</th>\n",
       "      <th>education-num-win</th>\n",
       "    </tr>\n",
       "  </thead>\n",
       "  <tbody>\n",
       "    <tr>\n",
       "      <th>0</th>\n",
       "      <td>-0.188926</td>\n",
       "      <td>-0.755763</td>\n",
       "      <td>2.305545</td>\n",
       "      <td>-0.153909</td>\n",
       "      <td>-0.212365</td>\n",
       "      <td>0.397049</td>\n",
       "      <td>2.322443</td>\n",
       "    </tr>\n",
       "    <tr>\n",
       "      <th>1</th>\n",
       "      <td>-0.261682</td>\n",
       "      <td>-1.503876</td>\n",
       "      <td>-0.406796</td>\n",
       "      <td>-0.153909</td>\n",
       "      <td>-0.212365</td>\n",
       "      <td>0.397049</td>\n",
       "      <td>-0.413127</td>\n",
       "    </tr>\n",
       "    <tr>\n",
       "      <th>2</th>\n",
       "      <td>-1.280263</td>\n",
       "      <td>0.729900</td>\n",
       "      <td>-0.019319</td>\n",
       "      <td>-0.153909</td>\n",
       "      <td>-0.212365</td>\n",
       "      <td>-1.956262</td>\n",
       "      <td>-0.022331</td>\n",
       "    </tr>\n",
       "    <tr>\n",
       "      <th>3</th>\n",
       "      <td>0.465876</td>\n",
       "      <td>-0.221920</td>\n",
       "      <td>-0.019319</td>\n",
       "      <td>-0.153909</td>\n",
       "      <td>-0.212365</td>\n",
       "      <td>-1.307073</td>\n",
       "      <td>-0.022331</td>\n",
       "    </tr>\n",
       "    <tr>\n",
       "      <th>4</th>\n",
       "      <td>0.029341</td>\n",
       "      <td>0.987647</td>\n",
       "      <td>1.143113</td>\n",
       "      <td>-0.153909</td>\n",
       "      <td>-0.212365</td>\n",
       "      <td>-0.008694</td>\n",
       "      <td>1.150056</td>\n",
       "    </tr>\n",
       "    <tr>\n",
       "      <th>5</th>\n",
       "      <td>-0.843728</td>\n",
       "      <td>0.385478</td>\n",
       "      <td>-0.019319</td>\n",
       "      <td>-0.153909</td>\n",
       "      <td>-0.212365</td>\n",
       "      <td>-1.631667</td>\n",
       "      <td>-0.022331</td>\n",
       "    </tr>\n",
       "    <tr>\n",
       "      <th>6</th>\n",
       "      <td>0.102097</td>\n",
       "      <td>0.263583</td>\n",
       "      <td>-0.406796</td>\n",
       "      <td>-0.153909</td>\n",
       "      <td>-0.212365</td>\n",
       "      <td>-0.008694</td>\n",
       "      <td>-0.413127</td>\n",
       "    </tr>\n",
       "    <tr>\n",
       "      <th>7</th>\n",
       "      <td>2.357526</td>\n",
       "      <td>-0.273195</td>\n",
       "      <td>-0.019319</td>\n",
       "      <td>-0.153909</td>\n",
       "      <td>-0.212365</td>\n",
       "      <td>-0.414438</td>\n",
       "      <td>-0.022331</td>\n",
       "    </tr>\n",
       "    <tr>\n",
       "      <th>8</th>\n",
       "      <td>-1.353018</td>\n",
       "      <td>0.009240</td>\n",
       "      <td>-0.019319</td>\n",
       "      <td>-0.153909</td>\n",
       "      <td>-0.212365</td>\n",
       "      <td>-0.008694</td>\n",
       "      <td>-0.022331</td>\n",
       "    </tr>\n",
       "    <tr>\n",
       "      <th>9</th>\n",
       "      <td>0.174853</td>\n",
       "      <td>-0.715163</td>\n",
       "      <td>-0.019319</td>\n",
       "      <td>-0.153909</td>\n",
       "      <td>-0.212365</td>\n",
       "      <td>-0.008694</td>\n",
       "      <td>-0.022331</td>\n",
       "    </tr>\n",
       "  </tbody>\n",
       "</table>\n",
       "</div>"
      ],
      "text/plain": [
       "        age    fnlwgt  education-num  capital-gain  capital-loss  \\\n",
       "0 -0.188926 -0.755763       2.305545     -0.153909     -0.212365   \n",
       "1 -0.261682 -1.503876      -0.406796     -0.153909     -0.212365   \n",
       "2 -1.280263  0.729900      -0.019319     -0.153909     -0.212365   \n",
       "3  0.465876 -0.221920      -0.019319     -0.153909     -0.212365   \n",
       "4  0.029341  0.987647       1.143113     -0.153909     -0.212365   \n",
       "5 -0.843728  0.385478      -0.019319     -0.153909     -0.212365   \n",
       "6  0.102097  0.263583      -0.406796     -0.153909     -0.212365   \n",
       "7  2.357526 -0.273195      -0.019319     -0.153909     -0.212365   \n",
       "8 -1.353018  0.009240      -0.019319     -0.153909     -0.212365   \n",
       "9  0.174853 -0.715163      -0.019319     -0.153909     -0.212365   \n",
       "\n",
       "   hours-per-week  education-num-win  \n",
       "0        0.397049           2.322443  \n",
       "1        0.397049          -0.413127  \n",
       "2       -1.956262          -0.022331  \n",
       "3       -1.307073          -0.022331  \n",
       "4       -0.008694           1.150056  \n",
       "5       -1.631667          -0.022331  \n",
       "6       -0.008694          -0.413127  \n",
       "7       -0.414438          -0.022331  \n",
       "8       -0.008694          -0.022331  \n",
       "9       -0.008694          -0.022331  "
      ]
     },
     "execution_count": 17,
     "metadata": {},
     "output_type": "execute_result"
    }
   ],
   "source": [
    "df_zscores = df.select_dtypes(include=['number']).apply(stats.zscore)\n",
    "df_zscores.head(10)"
   ]
  },
  {
   "cell_type": "code",
   "execution_count": null,
   "metadata": {},
   "outputs": [],
   "source": []
  }
 ],
 "metadata": {
  "kernelspec": {
   "display_name": "Python 3",
   "language": "python",
   "name": "python3"
  },
  "language_info": {
   "codemirror_mode": {
    "name": "ipython",
    "version": 3
   },
   "file_extension": ".py",
   "mimetype": "text/x-python",
   "name": "python",
   "nbconvert_exporter": "python",
   "pygments_lexer": "ipython3",
   "version": "3.6.9"
  },
  "toc": {
   "base_numbering": 1,
   "nav_menu": {},
   "number_sections": false,
   "sideBar": true,
   "skip_h1_title": false,
   "title_cell": "Table of Contents",
   "title_sidebar": "Contents",
   "toc_cell": false,
   "toc_position": {},
   "toc_section_display": true,
   "toc_window_display": false
  },
  "varInspector": {
   "cols": {
    "lenName": 16,
    "lenType": 16,
    "lenVar": 40
   },
   "kernels_config": {
    "python": {
     "delete_cmd_postfix": "",
     "delete_cmd_prefix": "del ",
     "library": "var_list.py",
     "varRefreshCmd": "print(var_dic_list())"
    },
    "r": {
     "delete_cmd_postfix": ") ",
     "delete_cmd_prefix": "rm(",
     "library": "var_list.r",
     "varRefreshCmd": "cat(var_dic_list()) "
    }
   },
   "types_to_exclude": [
    "module",
    "function",
    "builtin_function_or_method",
    "instance",
    "_Feature"
   ],
   "window_display": false
  }
 },
 "nbformat": 4,
 "nbformat_minor": 2
}
