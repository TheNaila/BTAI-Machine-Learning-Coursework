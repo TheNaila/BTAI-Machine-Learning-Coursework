{
 "cells": [
  {
   "cell_type": "markdown",
   "metadata": {},
   "source": [
    "## NumPy Vectorization and Broadcasting\n",
    "\n",
    "NumPy is one of the core Python packages used in Data Science and Machine Learning. NumPy is short for Numerical Python. The key data structure that is provided by the NumPy package are arrays, called NumPy arrays. These are similar to Python lists. The NumPy package provides a number of different functions for both creating arrays of different sizes, shapes, and types, and for performing various operations on array elements.\n",
    "\n",
    "In this exercise you will become familiar with NumPy arrays and key NumPy techniques called vectorization and broadcasting.\n",
    "\n",
    "<b>Broadcasting</b>: Arrays with different sizes cannot be added, subtracted, or generally be used in arithmetic. A way to overcome this is to duplicate the smaller array so that it is the same dimensionality and size as the larger array. This is called array broadcasting and is available in NumPy when performing array arithmetic. This can greatly reduce and simplify your code.\n",
    "\n",
    "<b>Vectorization</b>: \n",
    "NumPy provides functions that can perform mathematical operations on arrays that would otherwise be performed through the use of for loops. This is a process that is referred to as vectorization. Essentially, instead of using loops to perform certain computations, you can use an available NumPy function. Therefore, if there is a NumPy function available to fit your needs, always use it so as to get much faster performance!\n",
    "\n",
    "For more information about the NumPy package and NumPy arrays, consult the NumPy online [API Reference](https://numpy.org/doc/stable/reference/index.html).\n"
   ]
  },
  {
   "cell_type": "markdown",
   "metadata": {},
   "source": [
    "## Step 1 \n",
    "\n",
    "\n",
    "Let’s start by importing the `numpy` package, using its conventional shorthand name, `np`. By \"conventional shorthand names,\" we mean that it is an agreed-upon convention by the community to use these particular shorthand names, but there is nothing that would stop you from choosing your own shorthand name, or not using a shorthand name at all. In this program, we will use `np` as the shorthand name for the `numpy` package, and we will import the `numpy` package in as follows:  `import numpy as np`.\n",
    "\n",
    "Run the code cell below.\n",
    "\n",
    "<b>Reminder</b>: Prolonged inactivity or navigating to a different page will cause the notebook session to timeout. To resume your work where you left off, be sure to re-run all of the notebook cells in order, starting again at the very beginning with the code cell below.\n",
    "\n"
   ]
  },
  {
   "cell_type": "code",
   "execution_count": null,
   "metadata": {},
   "outputs": [],
   "source": [
    "import numpy as np"
   ]
  },
  {
   "cell_type": "markdown",
   "metadata": {},
   "source": [
    "## Step 2\n",
    "\n",
    "Using the `numpy` function `np.arange()`, define an array of integers from 0-999 and assign it to variable `a`. Create a new variable named `b` and assign it the value of 10.\n",
    "\n",
    "Note: Consult the numpy `arange()` function [documentation](https://numpy.org/doc/stable/reference/generated/numpy.arange.html) to see how to use this function."
   ]
  },
  {
   "cell_type": "markdown",
   "metadata": {},
   "source": [
    "### Graded Cell\n",
    "\n",
    "The cell below will be graded. Remove the line \"raise NotImplementedError()\" before writing your code."
   ]
  },
  {
   "cell_type": "code",
   "execution_count": 120,
   "metadata": {
    "deletable": false,
    "nbgrader": {
     "checksum": "ee34189787d27b0e4cfc16d497ebc2f7",
     "grade": false,
     "grade_id": "cell-a-b",
     "locked": false,
     "schema_version": 1,
     "solution": true
    }
   },
   "outputs": [],
   "source": [
    "a = np.arange(0,1000)\n",
    "b = 10"
   ]
  },
  {
   "cell_type": "markdown",
   "metadata": {},
   "source": [
    "### Self-Check\n",
    "\n",
    "Run the cell below to test the correctness of your code above before submitting for grading. Do not add code or delete code in the cell."
   ]
  },
  {
   "cell_type": "code",
   "execution_count": 24,
   "metadata": {
    "deletable": false,
    "editable": false,
    "nbgrader": {
     "checksum": "25f47763e5d62d8f02260f837c99cc20",
     "grade": true,
     "grade_id": "cell-a-b-test",
     "locked": true,
     "points": 2,
     "schema_version": 1,
     "solution": false
    }
   },
   "outputs": [
    {
     "name": "stdout",
     "output_type": "stream",
     "text": [
      "Correct!\n"
     ]
    }
   ],
   "source": [
    "# Run this self-test cell to check your code; \n",
    "# do not add code or delete code in this cell\n",
    "from jn import testAB\n",
    "\n",
    "try:\n",
    "    p, err = testAB(a,b)\n",
    "    print(err)\n",
    "except Exception as e:\n",
    "    print(\"Error!\\n\" + str(e))\n",
    "    \n"
   ]
  },
  {
   "cell_type": "markdown",
   "metadata": {},
   "source": [
    "## Step 3\n",
    "\n",
    "You will write a function that adds a numerical constant value to every element of a numpy array.\n",
    "\n",
    "Complete the function called `array_add_constant` that does the following:\n",
    "\n",
    "1. Takes in two arguments: (1) a `numpy` array of any size, (2) a numeric constant\n",
    "2. Defines an empty Python list (not a `numpy` array) named `new_list`.\n",
    "3. Uses a for loop to loop over the elements of the input `numpy` array and does the following for each element:\n",
    "    * add the numeric constant to the element\n",
    "    * appends the result to the Python list `new_list`.\n",
    "4. Converts  `new_list` to a numpy array using the `np.array()` function. Consult the `array()` function [documentation](https://numpy.org/doc/stable/reference/generated/numpy.array.html) to see how to use this function.\n",
    "5. Returns the` numpy` array.\n",
    "\n"
   ]
  },
  {
   "cell_type": "markdown",
   "metadata": {},
   "source": [
    "### Graded Cell\n",
    "\n",
    "The cell below will be graded. Remove the line \"raise NotImplementedError()\" before writing your code."
   ]
  },
  {
   "cell_type": "code",
   "execution_count": 102,
   "metadata": {
    "deletable": false,
    "nbgrader": {
     "checksum": "a90768b7c63f9be76a80a5ffe1ad2fc1",
     "grade": false,
     "grade_id": "cell-arrayAddConstant",
     "locked": false,
     "schema_version": 1,
     "solution": true
    }
   },
   "outputs": [],
   "source": [
    "def array_add_constant(numpy_array, constant):\n",
    "    new_list = []\n",
    "    for i in range(len(numpy_array)):\n",
    "        new_list.append(i + constant)\n",
    "    return np.array(new_list)\n",
    "    "
   ]
  },
  {
   "cell_type": "markdown",
   "metadata": {},
   "source": [
    "### Self-Check\n",
    "\n",
    "Run the cell below to test the correctness of your code above before submitting for grading. Do not add code or delete code in the cell."
   ]
  },
  {
   "cell_type": "code",
   "execution_count": 105,
   "metadata": {
    "deletable": false,
    "editable": false,
    "nbgrader": {
     "checksum": "d4a499fda40cd2dbd8926bbdea7d29a7",
     "grade": true,
     "grade_id": "cell-arrayAddConstant-test",
     "locked": true,
     "points": 2,
     "schema_version": 1,
     "solution": false
    }
   },
   "outputs": [
    {
     "name": "stdout",
     "output_type": "stream",
     "text": [
      "Correct!\n"
     ]
    }
   ],
   "source": [
    "# Run this self-test cell to check your code; do not add code or delete code in this cell\n",
    "from jn import testFunction\n",
    "\n",
    "try:\n",
    "    p, err = testFunction(array_add_constant)\n",
    "    print(err)\n",
    "except Exception as e:\n",
    "    print(\"Error!\\n\" + str(e))\n",
    "    "
   ]
  },
  {
   "cell_type": "markdown",
   "metadata": {},
   "source": [
    "## Step 4\n",
    "\n",
    "Call your function `array_add_constant` using the arguments you created in Step 1: numpy array `a` and constant `b`. Store the result in a new variable called `ab_loop`."
   ]
  },
  {
   "cell_type": "markdown",
   "metadata": {},
   "source": [
    "### Graded Cell\n",
    "\n",
    "The cell below will be graded. Remove the line \"raise NotImplementedError()\" before writing your code."
   ]
  },
  {
   "cell_type": "code",
   "execution_count": 121,
   "metadata": {
    "deletable": false,
    "nbgrader": {
     "checksum": "4db01850168c4854254c3851eb5411a6",
     "grade": false,
     "grade_id": "cell-abLoop",
     "locked": false,
     "schema_version": 1,
     "solution": true
    }
   },
   "outputs": [
    {
     "name": "stdout",
     "output_type": "stream",
     "text": [
      "[  10   11   12   13   14   15   16   17   18   19   20   21   22   23\n",
      "   24   25   26   27   28   29   30   31   32   33   34   35   36   37\n",
      "   38   39   40   41   42   43   44   45   46   47   48   49   50   51\n",
      "   52   53   54   55   56   57   58   59   60   61   62   63   64   65\n",
      "   66   67   68   69   70   71   72   73   74   75   76   77   78   79\n",
      "   80   81   82   83   84   85   86   87   88   89   90   91   92   93\n",
      "   94   95   96   97   98   99  100  101  102  103  104  105  106  107\n",
      "  108  109  110  111  112  113  114  115  116  117  118  119  120  121\n",
      "  122  123  124  125  126  127  128  129  130  131  132  133  134  135\n",
      "  136  137  138  139  140  141  142  143  144  145  146  147  148  149\n",
      "  150  151  152  153  154  155  156  157  158  159  160  161  162  163\n",
      "  164  165  166  167  168  169  170  171  172  173  174  175  176  177\n",
      "  178  179  180  181  182  183  184  185  186  187  188  189  190  191\n",
      "  192  193  194  195  196  197  198  199  200  201  202  203  204  205\n",
      "  206  207  208  209  210  211  212  213  214  215  216  217  218  219\n",
      "  220  221  222  223  224  225  226  227  228  229  230  231  232  233\n",
      "  234  235  236  237  238  239  240  241  242  243  244  245  246  247\n",
      "  248  249  250  251  252  253  254  255  256  257  258  259  260  261\n",
      "  262  263  264  265  266  267  268  269  270  271  272  273  274  275\n",
      "  276  277  278  279  280  281  282  283  284  285  286  287  288  289\n",
      "  290  291  292  293  294  295  296  297  298  299  300  301  302  303\n",
      "  304  305  306  307  308  309  310  311  312  313  314  315  316  317\n",
      "  318  319  320  321  322  323  324  325  326  327  328  329  330  331\n",
      "  332  333  334  335  336  337  338  339  340  341  342  343  344  345\n",
      "  346  347  348  349  350  351  352  353  354  355  356  357  358  359\n",
      "  360  361  362  363  364  365  366  367  368  369  370  371  372  373\n",
      "  374  375  376  377  378  379  380  381  382  383  384  385  386  387\n",
      "  388  389  390  391  392  393  394  395  396  397  398  399  400  401\n",
      "  402  403  404  405  406  407  408  409  410  411  412  413  414  415\n",
      "  416  417  418  419  420  421  422  423  424  425  426  427  428  429\n",
      "  430  431  432  433  434  435  436  437  438  439  440  441  442  443\n",
      "  444  445  446  447  448  449  450  451  452  453  454  455  456  457\n",
      "  458  459  460  461  462  463  464  465  466  467  468  469  470  471\n",
      "  472  473  474  475  476  477  478  479  480  481  482  483  484  485\n",
      "  486  487  488  489  490  491  492  493  494  495  496  497  498  499\n",
      "  500  501  502  503  504  505  506  507  508  509  510  511  512  513\n",
      "  514  515  516  517  518  519  520  521  522  523  524  525  526  527\n",
      "  528  529  530  531  532  533  534  535  536  537  538  539  540  541\n",
      "  542  543  544  545  546  547  548  549  550  551  552  553  554  555\n",
      "  556  557  558  559  560  561  562  563  564  565  566  567  568  569\n",
      "  570  571  572  573  574  575  576  577  578  579  580  581  582  583\n",
      "  584  585  586  587  588  589  590  591  592  593  594  595  596  597\n",
      "  598  599  600  601  602  603  604  605  606  607  608  609  610  611\n",
      "  612  613  614  615  616  617  618  619  620  621  622  623  624  625\n",
      "  626  627  628  629  630  631  632  633  634  635  636  637  638  639\n",
      "  640  641  642  643  644  645  646  647  648  649  650  651  652  653\n",
      "  654  655  656  657  658  659  660  661  662  663  664  665  666  667\n",
      "  668  669  670  671  672  673  674  675  676  677  678  679  680  681\n",
      "  682  683  684  685  686  687  688  689  690  691  692  693  694  695\n",
      "  696  697  698  699  700  701  702  703  704  705  706  707  708  709\n",
      "  710  711  712  713  714  715  716  717  718  719  720  721  722  723\n",
      "  724  725  726  727  728  729  730  731  732  733  734  735  736  737\n",
      "  738  739  740  741  742  743  744  745  746  747  748  749  750  751\n",
      "  752  753  754  755  756  757  758  759  760  761  762  763  764  765\n",
      "  766  767  768  769  770  771  772  773  774  775  776  777  778  779\n",
      "  780  781  782  783  784  785  786  787  788  789  790  791  792  793\n",
      "  794  795  796  797  798  799  800  801  802  803  804  805  806  807\n",
      "  808  809  810  811  812  813  814  815  816  817  818  819  820  821\n",
      "  822  823  824  825  826  827  828  829  830  831  832  833  834  835\n",
      "  836  837  838  839  840  841  842  843  844  845  846  847  848  849\n",
      "  850  851  852  853  854  855  856  857  858  859  860  861  862  863\n",
      "  864  865  866  867  868  869  870  871  872  873  874  875  876  877\n",
      "  878  879  880  881  882  883  884  885  886  887  888  889  890  891\n",
      "  892  893  894  895  896  897  898  899  900  901  902  903  904  905\n",
      "  906  907  908  909  910  911  912  913  914  915  916  917  918  919\n",
      "  920  921  922  923  924  925  926  927  928  929  930  931  932  933\n",
      "  934  935  936  937  938  939  940  941  942  943  944  945  946  947\n",
      "  948  949  950  951  952  953  954  955  956  957  958  959  960  961\n",
      "  962  963  964  965  966  967  968  969  970  971  972  973  974  975\n",
      "  976  977  978  979  980  981  982  983  984  985  986  987  988  989\n",
      "  990  991  992  993  994  995  996  997  998  999 1000 1001 1002 1003\n",
      " 1004 1005 1006 1007 1008 1009]\n"
     ]
    }
   ],
   "source": [
    "ab_loop = array_add_constant(a,b)\n"
   ]
  },
  {
   "cell_type": "markdown",
   "metadata": {},
   "source": [
    "### Self-Check\n",
    "\n",
    "Run the cell below to test the correctness of your code above before submitting for grading. Do not add code or delete code in the cell."
   ]
  },
  {
   "cell_type": "code",
   "execution_count": 113,
   "metadata": {
    "deletable": false,
    "editable": false,
    "nbgrader": {
     "checksum": "0d9d26ab3b9edaf6e0dc2d4df1e2d94b",
     "grade": true,
     "grade_id": "cell-abLoop-test",
     "locked": true,
     "points": 1,
     "schema_version": 1,
     "solution": false
    }
   },
   "outputs": [
    {
     "name": "stdout",
     "output_type": "stream",
     "text": [
      "Correct!\n"
     ]
    }
   ],
   "source": [
    "# Run this self-test cell to check your code; do not add code or delete code in this cell\n",
    "from jn import testABLoop\n",
    "\n",
    "try:\n",
    "    p, err = testABLoop(array_add_constant,a,b,ab_loop)\n",
    "    print(err)\n",
    "except Exception as e:\n",
    "    print(\"Error!\\n\" + str(e))\n",
    "    "
   ]
  },
  {
   "cell_type": "markdown",
   "metadata": {},
   "source": [
    "## Step 5\n",
    "\n",
    "Note how `numpy` array `ab_loop` was created. \n",
    "\n",
    "Function `array_add_constant` used a few steps, including a `for` loop, to perform a mathemetical operation (addition) on each element of array `a` in order to produce array `ab_loop`.\n",
    "\n",
    "You will now do the same thing using the NumPy way! Create a new variable called `ab_numpy`. Assign it the value of `a + b`. \n",
    "\n"
   ]
  },
  {
   "cell_type": "markdown",
   "metadata": {},
   "source": [
    "### Graded Cell\n",
    "\n",
    "The cell below will be graded. Remove the line \"raise NotImplementedError()\" before writing your code."
   ]
  },
  {
   "cell_type": "code",
   "execution_count": 122,
   "metadata": {
    "deletable": false,
    "nbgrader": {
     "checksum": "e436aeba45286357d50084d18bb199a7",
     "grade": false,
     "grade_id": "cell-ab_numpy",
     "locked": false,
     "schema_version": 1,
     "solution": true
    }
   },
   "outputs": [],
   "source": [
    "ab_numpy = a+b"
   ]
  },
  {
   "cell_type": "markdown",
   "metadata": {},
   "source": [
    "### Self-Check\n",
    "\n",
    "Run the cell below to test the correctness of your code above before submitting for grading. Do not add code or delete code in the cell."
   ]
  },
  {
   "cell_type": "code",
   "execution_count": 116,
   "metadata": {
    "deletable": false,
    "editable": false,
    "nbgrader": {
     "checksum": "2ff4cda6d8974be05a7ed61d973dce52",
     "grade": true,
     "grade_id": "cell-ab_numpy_test",
     "locked": true,
     "points": 1,
     "schema_version": 1,
     "solution": false
    }
   },
   "outputs": [
    {
     "name": "stdout",
     "output_type": "stream",
     "text": [
      "Correct!\n"
     ]
    }
   ],
   "source": [
    "# Run this self-test cell to check your code; do not add code or delete code in this cell\n",
    "from jn import testABNumpy\n",
    "\n",
    "try:\n",
    "    p, err = testABNumpy(a,b,ab_numpy)\n",
    "    print(err)\n",
    "except Exception as e:\n",
    "    print(\"Error!\\n\" + str(e))\n",
    "    "
   ]
  },
  {
   "cell_type": "markdown",
   "metadata": {},
   "source": [
    "To further demonstrate that both techniques produce the same results, the cell below contains code to compare `ab_numpy` and `ab_loop` to check whether they are equivalent.\n",
    "\n",
    "1. The cell contains a boolean statement that checks whether `ab_numpy` is equal to`ab_loop`. This statement will compare every element in each array and will return an array that contains boolean values (True or False) for every element. \n",
    "\n",
    "2. The cell also contains the boolean statement with an added `sum()` method that counts how many comparisons are False.\n",
    "\n",
    "Run the cell below and inspect the results.\n"
   ]
  },
  {
   "cell_type": "code",
   "execution_count": 123,
   "metadata": {},
   "outputs": [
    {
     "name": "stdout",
     "output_type": "stream",
     "text": [
      "[False False False False False False False False False False False False\n",
      " False False False False False False False False False False False False\n",
      " False False False False False False False False False False False False\n",
      " False False False False False False False False False False False False\n",
      " False False False False False False False False False False False False\n",
      " False False False False False False False False False False False False\n",
      " False False False False False False False False False False False False\n",
      " False False False False False False False False False False False False\n",
      " False False False False False False False False False False False False\n",
      " False False False False False False False False False False False False\n",
      " False False False False False False False False False False False False\n",
      " False False False False False False False False False False False False\n",
      " False False False False False False False False False False False False\n",
      " False False False False False False False False False False False False\n",
      " False False False False False False False False False False False False\n",
      " False False False False False False False False False False False False\n",
      " False False False False False False False False False False False False\n",
      " False False False False False False False False False False False False\n",
      " False False False False False False False False False False False False\n",
      " False False False False False False False False False False False False\n",
      " False False False False False False False False False False False False\n",
      " False False False False False False False False False False False False\n",
      " False False False False False False False False False False False False\n",
      " False False False False False False False False False False False False\n",
      " False False False False False False False False False False False False\n",
      " False False False False False False False False False False False False\n",
      " False False False False False False False False False False False False\n",
      " False False False False False False False False False False False False\n",
      " False False False False False False False False False False False False\n",
      " False False False False False False False False False False False False\n",
      " False False False False False False False False False False False False\n",
      " False False False False False False False False False False False False\n",
      " False False False False False False False False False False False False\n",
      " False False False False False False False False False False False False\n",
      " False False False False False False False False False False False False\n",
      " False False False False False False False False False False False False\n",
      " False False False False False False False False False False False False\n",
      " False False False False False False False False False False False False\n",
      " False False False False False False False False False False False False\n",
      " False False False False False False False False False False False False\n",
      " False False False False False False False False False False False False\n",
      " False False False False False False False False False False False False\n",
      " False False False False False False False False False False False False\n",
      " False False False False False False False False False False False False\n",
      " False False False False False False False False False False False False\n",
      " False False False False False False False False False False False False\n",
      " False False False False False False False False False False False False\n",
      " False False False False False False False False False False False False\n",
      " False False False False False False False False False False False False\n",
      " False False False False False False False False False False False False\n",
      " False False False False False False False False False False False False\n",
      " False False False False False False False False False False False False\n",
      " False False False False False False False False False False False False\n",
      " False False False False False False False False False False False False\n",
      " False False False False False False False False False False False False\n",
      " False False False False False False False False False False False False\n",
      " False False False False False False False False False False False False\n",
      " False False False False False False False False False False False False\n",
      " False False False False False False False False False False False False\n",
      " False False False False False False False False False False False False\n",
      " False False False False False False False False False False False False\n",
      " False False False False False False False False False False False False\n",
      " False False False False False False False False False False False False\n",
      " False False False False False False False False False False False False\n",
      " False False False False False False False False False False False False\n",
      " False False False False False False False False False False False False\n",
      " False False False False False False False False False False False False\n",
      " False False False False False False False False False False False False\n",
      " False False False False False False False False False False False False\n",
      " False False False False False False False False False False False False\n",
      " False False False False False False False False False False False False\n",
      " False False False False False False False False False False False False\n",
      " False False False False False False False False False False False False\n",
      " False False False False False False False False False False False False\n",
      " False False False False False False False False False False False False\n",
      " False False False False False False False False False False False False\n",
      " False False False False False False False False False False False False\n",
      " False False False False False False False False False False False False\n",
      " False False False False False False False False False False False False\n",
      " False False False False False False False False False False False False\n",
      " False False False False False False False False False False False False\n",
      " False False False False False False False False False False False False\n",
      " False False False False False False False False False False False False\n",
      " False False False False]\n",
      "0\n"
     ]
    }
   ],
   "source": [
    "boolean_array = (ab_numpy != ab_loop)\n",
    "print(boolean_array)\n",
    "\n",
    "sum_of_values = (ab_numpy != ab_loop).sum()\n",
    "print(sum_of_values)"
   ]
  },
  {
   "cell_type": "markdown",
   "metadata": {},
   "source": [
    "##  Step 6\n",
    "\n",
    "Your statement `ab_numpy = a + b` is an example of both <b>vectorization</b> and <b>broadcasting</b>.\n",
    "\n",
    "You performed a mathematical operation that involved an array and one numerical value; you added a value to each element of an array using a simple arithmetic statement `a+b`. This is an example of <b>broadcasting</b>.\n",
    "\n",
    "This also employed the technique of <b>vectorization</b>; the statement took the place of a loop.\n",
    "\n",
    "To demonstrate how <b>vectorization</b> speeds up performance, let's compare the two methods from a time performance perspective.\n",
    "\n",
    "The code cell below uses the `%timeit` magic function to see how long function `array_add_constant(a,b)` takes. Run the cell and inspect the results."
   ]
  },
  {
   "cell_type": "code",
   "execution_count": 124,
   "metadata": {},
   "outputs": [
    {
     "name": "stdout",
     "output_type": "stream",
     "text": [
      "247 µs ± 6.02 µs per loop (mean ± std. dev. of 7 runs, 1000 loops each)\n"
     ]
    }
   ],
   "source": [
    "%timeit array_add_constant(a,b)"
   ]
  },
  {
   "cell_type": "markdown",
   "metadata": {},
   "source": [
    "## Step 7\n",
    "\n",
    "Now lets run the same test, but using the technique from Step 5 `a+b`. Run the cell below and inspect the results."
   ]
  },
  {
   "cell_type": "code",
   "execution_count": null,
   "metadata": {},
   "outputs": [],
   "source": [
    "%timeit a+b"
   ]
  },
  {
   "cell_type": "markdown",
   "metadata": {},
   "source": [
    "Reviewing the time it takes to add a constant to a `numpy` array using a loop vs using NumPy techniques. What is the speed difference you recognize? Usually there is a large order of magnitude speed up, demonstrating that whenever possible, always use NumPy techniques!"
   ]
  }
 ],
 "metadata": {
  "kernelspec": {
   "display_name": "Python 3",
   "language": "python",
   "name": "python3"
  },
  "language_info": {
   "codemirror_mode": {
    "name": "ipython",
    "version": 3
   },
   "file_extension": ".py",
   "mimetype": "text/x-python",
   "name": "python",
   "nbconvert_exporter": "python",
   "pygments_lexer": "ipython3",
   "version": "3.6.9"
  },
  "toc": {
   "base_numbering": 1,
   "nav_menu": {},
   "number_sections": false,
   "sideBar": true,
   "skip_h1_title": false,
   "title_cell": "Table of Contents",
   "title_sidebar": "Contents",
   "toc_cell": false,
   "toc_position": {},
   "toc_section_display": true,
   "toc_window_display": false
  },
  "varInspector": {
   "cols": {
    "lenName": 16,
    "lenType": 16,
    "lenVar": 40
   },
   "kernels_config": {
    "python": {
     "delete_cmd_postfix": "",
     "delete_cmd_prefix": "del ",
     "library": "var_list.py",
     "varRefreshCmd": "print(var_dic_list())"
    },
    "r": {
     "delete_cmd_postfix": ") ",
     "delete_cmd_prefix": "rm(",
     "library": "var_list.r",
     "varRefreshCmd": "cat(var_dic_list()) "
    }
   },
   "types_to_exclude": [
    "module",
    "function",
    "builtin_function_or_method",
    "instance",
    "_Feature"
   ],
   "window_display": false
  }
 },
 "nbformat": 4,
 "nbformat_minor": 5
}
